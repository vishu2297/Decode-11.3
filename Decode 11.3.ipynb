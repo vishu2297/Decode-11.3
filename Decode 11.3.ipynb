{
 "cells": [
  {
   "cell_type": "markdown",
   "id": "2b8e2d74",
   "metadata": {},
   "source": [
    "# Name - Vishwajeet Singh"
   ]
  },
  {
   "cell_type": "markdown",
   "id": "67f9e58d",
   "metadata": {},
   "source": [
    "## Decode 11.3 | Hackthon"
   ]
  },
  {
   "cell_type": "code",
   "execution_count": 1,
   "id": "9ea8e175",
   "metadata": {},
   "outputs": [],
   "source": [
    "# importing libraries\n",
    "import pandas as pd\n",
    "import numpy as np\n",
    "import matplotlib.pyplot as plt\n",
    "import seaborn as sns\n",
    "%matplotlib inline\n",
    "import warnings\n",
    "warnings.filterwarnings('ignore')"
   ]
  },
  {
   "cell_type": "code",
   "execution_count": 4,
   "id": "eeb21eee",
   "metadata": {},
   "outputs": [],
   "source": [
    "# Reading data from CSV\n",
    "df=pd.read_csv('Dataset.csv')"
   ]
  },
  {
   "cell_type": "code",
   "execution_count": 5,
   "id": "dfe5d15f",
   "metadata": {
    "scrolled": true
   },
   "outputs": [
    {
     "data": {
      "text/html": [
       "<div>\n",
       "<style scoped>\n",
       "    .dataframe tbody tr th:only-of-type {\n",
       "        vertical-align: middle;\n",
       "    }\n",
       "\n",
       "    .dataframe tbody tr th {\n",
       "        vertical-align: top;\n",
       "    }\n",
       "\n",
       "    .dataframe thead th {\n",
       "        text-align: right;\n",
       "    }\n",
       "</style>\n",
       "<table border=\"1\" class=\"dataframe\">\n",
       "  <thead>\n",
       "    <tr style=\"text-align: right;\">\n",
       "      <th></th>\n",
       "      <th>Ticket Id</th>\n",
       "      <th>Student or WP</th>\n",
       "      <th>Program Name</th>\n",
       "      <th>Status (Ticket)</th>\n",
       "      <th>Created Time (Ticket)</th>\n",
       "      <th>Ticket Closed Time</th>\n",
       "      <th>First Response Time</th>\n",
       "      <th>Project Phase</th>\n",
       "    </tr>\n",
       "  </thead>\n",
       "  <tbody>\n",
       "    <tr>\n",
       "      <th>0</th>\n",
       "      <td>6403.0</td>\n",
       "      <td>Working Professionals</td>\n",
       "      <td>Fullstack Program</td>\n",
       "      <td>Closed</td>\n",
       "      <td>14-05-2021 01:09</td>\n",
       "      <td>14-05-2021 19:04</td>\n",
       "      <td>14-05-2021 08:51</td>\n",
       "      <td>trial phase</td>\n",
       "    </tr>\n",
       "    <tr>\n",
       "      <th>1</th>\n",
       "      <td>6415.0</td>\n",
       "      <td>Working Professionals</td>\n",
       "      <td>Backend Program</td>\n",
       "      <td>Duplicate</td>\n",
       "      <td>14-05-2021 10:12</td>\n",
       "      <td>14-05-2021 11:23</td>\n",
       "      <td>NaN</td>\n",
       "      <td>trial phase</td>\n",
       "    </tr>\n",
       "    <tr>\n",
       "      <th>2</th>\n",
       "      <td>6420.0</td>\n",
       "      <td>Working Professionals</td>\n",
       "      <td>Fullstack Program</td>\n",
       "      <td>Closed</td>\n",
       "      <td>14-05-2021 11:46</td>\n",
       "      <td>16-05-2021 00:09</td>\n",
       "      <td>14-05-2021 18:14</td>\n",
       "      <td>trial phase</td>\n",
       "    </tr>\n",
       "    <tr>\n",
       "      <th>3</th>\n",
       "      <td>6402.0</td>\n",
       "      <td>Student</td>\n",
       "      <td>Fullstack Program</td>\n",
       "      <td>Closed</td>\n",
       "      <td>14-05-2021 01:08</td>\n",
       "      <td>14-05-2021 19:04</td>\n",
       "      <td>14-05-2021 14:45</td>\n",
       "      <td>fullstack-phase-1</td>\n",
       "    </tr>\n",
       "    <tr>\n",
       "      <th>4</th>\n",
       "      <td>6423.0</td>\n",
       "      <td>Working Professionals</td>\n",
       "      <td>Fellowship Program</td>\n",
       "      <td>Closed</td>\n",
       "      <td>14-05-2021 12:17</td>\n",
       "      <td>14-05-2021 20:39</td>\n",
       "      <td>14-05-2021 12:21</td>\n",
       "      <td>trial phase</td>\n",
       "    </tr>\n",
       "  </tbody>\n",
       "</table>\n",
       "</div>"
      ],
      "text/plain": [
       "   Ticket Id          Student or WP        Program Name Status (Ticket)  \\\n",
       "0     6403.0  Working Professionals   Fullstack Program          Closed   \n",
       "1     6415.0  Working Professionals     Backend Program       Duplicate   \n",
       "2     6420.0  Working Professionals   Fullstack Program          Closed   \n",
       "3     6402.0                Student   Fullstack Program          Closed   \n",
       "4     6423.0  Working Professionals  Fellowship Program          Closed   \n",
       "\n",
       "  Created Time (Ticket) Ticket Closed Time First Response Time  \\\n",
       "0      14-05-2021 01:09   14-05-2021 19:04    14-05-2021 08:51   \n",
       "1      14-05-2021 10:12   14-05-2021 11:23                 NaN   \n",
       "2      14-05-2021 11:46   16-05-2021 00:09    14-05-2021 18:14   \n",
       "3      14-05-2021 01:08   14-05-2021 19:04    14-05-2021 14:45   \n",
       "4      14-05-2021 12:17   14-05-2021 20:39    14-05-2021 12:21   \n",
       "\n",
       "       Project Phase  \n",
       "0        trial phase  \n",
       "1        trial phase  \n",
       "2        trial phase  \n",
       "3  fullstack-phase-1  \n",
       "4        trial phase  "
      ]
     },
     "execution_count": 5,
     "metadata": {},
     "output_type": "execute_result"
    }
   ],
   "source": [
    "df.head()"
   ]
  },
  {
   "cell_type": "code",
   "execution_count": 6,
   "id": "bc3f567f",
   "metadata": {},
   "outputs": [
    {
     "data": {
      "text/plain": [
       "(481, 8)"
      ]
     },
     "execution_count": 6,
     "metadata": {},
     "output_type": "execute_result"
    }
   ],
   "source": [
    "df.shape"
   ]
  },
  {
   "cell_type": "code",
   "execution_count": 7,
   "id": "33df0728",
   "metadata": {},
   "outputs": [
    {
     "data": {
      "text/plain": [
       "Index(['Ticket Id', 'Student or WP', 'Program Name', 'Status (Ticket)',\n",
       "       'Created Time (Ticket)', 'Ticket Closed Time', 'First Response Time',\n",
       "       'Project Phase'],\n",
       "      dtype='object')"
      ]
     },
     "execution_count": 7,
     "metadata": {},
     "output_type": "execute_result"
    }
   ],
   "source": [
    "df.columns"
   ]
  },
  {
   "cell_type": "code",
   "execution_count": 8,
   "id": "f015a6af",
   "metadata": {},
   "outputs": [
    {
     "data": {
      "text/plain": [
       "Ticket Id                  5\n",
       "Student or WP              5\n",
       "Program Name               5\n",
       "Status (Ticket)            5\n",
       "Created Time (Ticket)      5\n",
       "Ticket Closed Time         5\n",
       "First Response Time      115\n",
       "Project Phase              5\n",
       "dtype: int64"
      ]
     },
     "execution_count": 8,
     "metadata": {},
     "output_type": "execute_result"
    }
   ],
   "source": [
    "df.isna().sum()"
   ]
  },
  {
   "cell_type": "code",
   "execution_count": 9,
   "id": "964b5ba8",
   "metadata": {},
   "outputs": [
    {
     "name": "stdout",
     "output_type": "stream",
     "text": [
      "<class 'pandas.core.frame.DataFrame'>\n",
      "RangeIndex: 481 entries, 0 to 480\n",
      "Data columns (total 8 columns):\n",
      " #   Column                 Non-Null Count  Dtype  \n",
      "---  ------                 --------------  -----  \n",
      " 0   Ticket Id              476 non-null    float64\n",
      " 1   Student or WP          476 non-null    object \n",
      " 2   Program Name           476 non-null    object \n",
      " 3   Status (Ticket)        476 non-null    object \n",
      " 4   Created Time (Ticket)  476 non-null    object \n",
      " 5   Ticket Closed Time     476 non-null    object \n",
      " 6   First Response Time    366 non-null    object \n",
      " 7   Project Phase          476 non-null    object \n",
      "dtypes: float64(1), object(7)\n",
      "memory usage: 30.2+ KB\n"
     ]
    }
   ],
   "source": [
    "df.info()"
   ]
  },
  {
   "cell_type": "code",
   "execution_count": 14,
   "id": "7054ba17",
   "metadata": {},
   "outputs": [
    {
     "data": {
      "text/html": [
       "<div>\n",
       "<style scoped>\n",
       "    .dataframe tbody tr th:only-of-type {\n",
       "        vertical-align: middle;\n",
       "    }\n",
       "\n",
       "    .dataframe tbody tr th {\n",
       "        vertical-align: top;\n",
       "    }\n",
       "\n",
       "    .dataframe thead th {\n",
       "        text-align: right;\n",
       "    }\n",
       "</style>\n",
       "<table border=\"1\" class=\"dataframe\">\n",
       "  <thead>\n",
       "    <tr style=\"text-align: right;\">\n",
       "      <th></th>\n",
       "      <th>Ticket Id</th>\n",
       "    </tr>\n",
       "  </thead>\n",
       "  <tbody>\n",
       "    <tr>\n",
       "      <th>count</th>\n",
       "      <td>476.000000</td>\n",
       "    </tr>\n",
       "    <tr>\n",
       "      <th>mean</th>\n",
       "      <td>6803.109244</td>\n",
       "    </tr>\n",
       "    <tr>\n",
       "      <th>std</th>\n",
       "      <td>211.582460</td>\n",
       "    </tr>\n",
       "    <tr>\n",
       "      <th>min</th>\n",
       "      <td>6400.000000</td>\n",
       "    </tr>\n",
       "    <tr>\n",
       "      <th>25%</th>\n",
       "      <td>6644.750000</td>\n",
       "    </tr>\n",
       "    <tr>\n",
       "      <th>50%</th>\n",
       "      <td>6832.500000</td>\n",
       "    </tr>\n",
       "    <tr>\n",
       "      <th>75%</th>\n",
       "      <td>6972.250000</td>\n",
       "    </tr>\n",
       "    <tr>\n",
       "      <th>max</th>\n",
       "      <td>7177.000000</td>\n",
       "    </tr>\n",
       "  </tbody>\n",
       "</table>\n",
       "</div>"
      ],
      "text/plain": [
       "         Ticket Id\n",
       "count   476.000000\n",
       "mean   6803.109244\n",
       "std     211.582460\n",
       "min    6400.000000\n",
       "25%    6644.750000\n",
       "50%    6832.500000\n",
       "75%    6972.250000\n",
       "max    7177.000000"
      ]
     },
     "execution_count": 14,
     "metadata": {},
     "output_type": "execute_result"
    }
   ],
   "source": [
    "df.describe()"
   ]
  },
  {
   "cell_type": "code",
   "execution_count": null,
   "id": "8148d1c4",
   "metadata": {},
   "outputs": [],
   "source": []
  }
 ],
 "metadata": {
  "kernelspec": {
   "display_name": "Python 3",
   "language": "python",
   "name": "python3"
  },
  "language_info": {
   "codemirror_mode": {
    "name": "ipython",
    "version": 3
   },
   "file_extension": ".py",
   "mimetype": "text/x-python",
   "name": "python",
   "nbconvert_exporter": "python",
   "pygments_lexer": "ipython3",
   "version": "3.8.8"
  }
 },
 "nbformat": 4,
 "nbformat_minor": 5
}
